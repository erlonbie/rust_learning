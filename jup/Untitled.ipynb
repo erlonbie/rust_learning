{
 "cells": [
  {
   "cell_type": "code",
   "execution_count": 16,
   "id": "e7a29e0a",
   "metadata": {},
   "outputs": [],
   "source": [
    "let line = \"1 erlon 2020-01-01\";"
   ]
  },
  {
   "cell_type": "code",
   "execution_count": 18,
   "id": "1fa30465",
   "metadata": {},
   "outputs": [],
   "source": [
    "let tokens = line.split_whitespace().collect::<Vec<&str>>();"
   ]
  },
  {
   "cell_type": "code",
   "execution_count": 19,
   "id": "c51c4542",
   "metadata": {},
   "outputs": [
    {
     "name": "stdout",
     "output_type": "stream",
     "text": [
      "[\"1\", \"erlon\", \"2020-01-01\"]\n"
     ]
    }
   ],
   "source": [
    "println!(\"{tokens:?}\");"
   ]
  },
  {
   "cell_type": "code",
   "execution_count": 20,
   "id": "57bab0b4",
   "metadata": {},
   "outputs": [
    {
     "ename": "Error",
     "evalue": "The variable `enumer` contains a reference with a non-static lifetime so\ncan't be persisted. You can prevent this error by making sure that the\nvariable goes out of scope - i.e. wrapping the code in {}.",
     "output_type": "error",
     "traceback": [
      "\u001b[31mError:\u001b[0m The variable `enumer` contains a reference with a non-static lifetime so",
      "can't be persisted. You can prevent this error by making sure that the",
      "variable goes out of scope - i.e. wrapping the code in {}."
     ]
    }
   ],
   "source": [
    "let enumer = tokens.iter().enumerate().collect::<Vec<(usize, &&str)>>();"
   ]
  }
 ],
 "metadata": {
  "kernelspec": {
   "display_name": "Rust",
   "language": "rust",
   "name": "rust"
  },
  "language_info": {
   "codemirror_mode": "rust",
   "file_extension": ".rs",
   "mimetype": "text/rust",
   "name": "Rust",
   "pygment_lexer": "rust",
   "version": ""
  }
 },
 "nbformat": 4,
 "nbformat_minor": 5
}
